{
  "cells": [
    {
      "cell_type": "markdown",
      "metadata": {
        "id": "GvT5t_vk58Vt"
      },
      "source": [
        "<!-- @format -->\n",
        "\n",
        "# First Assignment - IMT2022043\n",
        "\n",
        "# Regression Challenge\n"
      ]
    },
    {
      "cell_type": "code",
      "execution_count": null,
      "metadata": {
        "id": "o_ABODvr58Vw"
      },
      "outputs": [],
      "source": [
        "import numpy as np\n",
        "import pandas as pd\n",
        "import matplotlib.pyplot as plt\n",
        "import seaborn as sns"
      ]
    },
    {
      "cell_type": "markdown",
      "metadata": {
        "id": "nPx4yEwN58Vx"
      },
      "source": [
        "<!-- @format -->\n",
        "\n",
        "## Read data\n"
      ]
    },
    {
      "cell_type": "code",
      "execution_count": null,
      "metadata": {
        "colab": {
          "base_uri": "https://localhost:8080/",
          "height": 423
        },
        "id": "m5X96JSR58Vx",
        "outputId": "d90d31e1-6213-4cd2-ad44-9404933a822b"
      },
      "outputs": [],
      "source": [
        "train_df = pd.read_csv(\"train.csv\")\n",
        "train_df"
      ]
    },
    {
      "cell_type": "markdown",
      "metadata": {
        "id": "4FvqcHGy58Vz"
      },
      "source": [
        "## Preprocessing"
      ]
    },
    {
      "cell_type": "markdown",
      "metadata": {
        "id": "10JUacow58Vz"
      },
      "source": [
        "<!-- @format -->\n",
        "\n",
        "### 1. Remove Duplicates\n"
      ]
    },
    {
      "cell_type": "code",
      "execution_count": null,
      "metadata": {
        "colab": {
          "base_uri": "https://localhost:8080/"
        },
        "id": "PQAOMJSm58Vz",
        "outputId": "d4d5b5a7-8f2f-4251-a700-243766a275a2"
      },
      "outputs": [],
      "source": [
        "train_df.shape"
      ]
    },
    {
      "cell_type": "code",
      "execution_count": null,
      "metadata": {
        "colab": {
          "base_uri": "https://localhost:8080/"
        },
        "id": "vGxGc96V58Vz",
        "outputId": "832fbc3c-b62f-4124-8530-c6e886b2bfa9"
      },
      "outputs": [],
      "source": [
        "train_df.drop_duplicates(inplace=True)\n",
        "train_df.shape"
      ]
    },
    {
      "cell_type": "markdown",
      "metadata": {
        "id": "ET8iAX6o58Vz"
      },
      "source": [
        "<!-- @format -->\n",
        "\n",
        "### 2. Deal with NULL values\n"
      ]
    },
    {
      "cell_type": "code",
      "execution_count": null,
      "metadata": {
        "colab": {
          "base_uri": "https://localhost:8080/",
          "height": 241
        },
        "id": "gTpSSUzE58Vz",
        "outputId": "c5fb68cc-f6f6-4ff4-efa8-661bb9fe3f34"
      },
      "outputs": [],
      "source": [
        "train_df.isna().sum()\n",
        "# isna().sum() gives total number of missing values in each column.Same as isnull().sum()"
      ]
    },
    {
      "cell_type": "code",
      "execution_count": null,
      "metadata": {
        "colab": {
          "base_uri": "https://localhost:8080/",
          "height": 241
        },
        "id": "181J2Wmp58Vz",
        "outputId": "0399e0bd-2cc1-4f2b-e6ba-3b5d087c4560"
      },
      "outputs": [],
      "source": [
        "null_value_percentages = (train_df.isna().sum() / train_df.shape[0]) * 100\n",
        "null_value_percentages"
      ]
    },
    {
      "cell_type": "markdown",
      "metadata": {
        "id": "1Rwb2wd_58V0"
      },
      "source": [
        "<!-- @format -->\n",
        "\n",
        "labels -> rows , columns -> columns\n"
      ]
    },
    {
      "cell_type": "markdown",
      "metadata": {
        "id": "Zlf0lwVe58V0"
      },
      "source": [
        "<!-- @format -->\n",
        "\n",
        "### Exploratory Data Analysis(EDA)\n"
      ]
    },
    {
      "cell_type": "markdown",
      "metadata": {
        "id": "OU5A1NJy58V0"
      },
      "source": [
        "<!-- @format -->\n",
        "\n",
        "Here we are doing EDA so that while imputing our values are not too off because of some high outlier value\n"
      ]
    },
    {
      "cell_type": "code",
      "execution_count": null,
      "metadata": {
        "colab": {
          "base_uri": "https://localhost:8080/",
          "height": 300
        },
        "id": "I8WWgPv758V0",
        "outputId": "88ec6db3-3234-4d75-baa0-c5be4b9674d7"
      },
      "outputs": [],
      "source": [
        "train_df.describe()"
      ]
    },
    {
      "cell_type": "markdown",
      "metadata": {
        "id": "910Cl3cS58V0"
      },
      "source": [
        "<!-- @format -->\n",
        "\n",
        "Now,I will analyse data for look for potential outliers, but first convert Feature 2 into numerical column\n"
      ]
    },
    {
      "cell_type": "code",
      "execution_count": null,
      "metadata": {
        "colab": {
          "base_uri": "https://localhost:8080/",
          "height": 423
        },
        "id": "cQ3_jene58V0",
        "outputId": "c980e8f9-af62-406d-bc5d-3d36be5d7551"
      },
      "outputs": [],
      "source": [
        "feature2_df = train_df[\"Feature2\"]\n",
        "for i in train_df[\"Feature2\"]:\n",
        "    if i == True:\n",
        "        feature2_df = feature2_df.replace(i, 1)\n",
        "    else:\n",
        "        feature2_df = feature2_df.replace(i, 0)\n",
        "train_df[\"Feature2\"] = feature2_df\n",
        "train_df"
      ]
    },
    {
      "cell_type": "markdown",
      "metadata": {
        "id": "5NRxaTCn58V1"
      },
      "source": [
        "<!-- @format -->\n",
        "\n",
        "Now we will create boxplot for finding outliers\n"
      ]
    },
    {
      "cell_type": "code",
      "execution_count": null,
      "metadata": {
        "colab": {
          "base_uri": "https://localhost:8080/",
          "height": 1000
        },
        "id": "8thaUbEj58V1",
        "outputId": "1f4c3b3c-b6d3-4034-8a54-f74ad8fd9916"
      },
      "outputs": [],
      "source": [
        "for i in train_df.columns:\n",
        "    sns.boxplot(train_df[i])\n",
        "    plt.show()"
      ]
    },
    {
      "cell_type": "markdown",
      "metadata": {
        "id": "a_PWNuLq58V2"
      },
      "source": [
        "<!-- @format -->\n",
        "\n",
        "Now our data is ready to impute the data as mean median will be similar due to outlier removal\n"
      ]
    },
    {
      "cell_type": "markdown",
      "metadata": {
        "id": "DNn_A8Na58V3"
      },
      "source": [
        "<!-- @format -->\n",
        "\n",
        "#### Strategy for removing NULL values:\n",
        "\n",
        "Because Feature1 is 3.75% and Feature4 is 5.41%.We will impute here\n"
      ]
    },
    {
      "cell_type": "code",
      "execution_count": null,
      "metadata": {
        "colab": {
          "base_uri": "https://localhost:8080/"
        },
        "id": "aDp-P4sM58V3",
        "outputId": "2b2857a9-a95a-42df-d31e-e863b89580a7"
      },
      "outputs": [],
      "source": [
        "columns_to_impute = null_value_percentages[null_value_percentages > 0].keys()\n",
        "columns_to_impute"
      ]
    },
    {
      "cell_type": "markdown",
      "metadata": {
        "id": "ZVPjwluy58V3"
      },
      "source": [
        "<!-- @format -->\n",
        "\n",
        "Check once again the mean median before imputing and decide with what value to impute\n"
      ]
    },
    {
      "cell_type": "code",
      "execution_count": null,
      "metadata": {
        "colab": {
          "base_uri": "https://localhost:8080/",
          "height": 206
        },
        "id": "QR4aPQcJ58V3",
        "outputId": "c1e89bff-0d0d-4c9e-c2a1-b7183a8aa35b"
      },
      "outputs": [],
      "source": [
        "train_df.describe().T"
      ]
    },
    {
      "cell_type": "code",
      "execution_count": null,
      "metadata": {
        "colab": {
          "base_uri": "https://localhost:8080/",
          "height": 423
        },
        "id": "Oz-k2_8v58V3",
        "outputId": "59085c0f-0a70-4dba-be0e-630049acd4e0"
      },
      "outputs": [],
      "source": [
        "train_df"
      ]
    },
    {
      "cell_type": "code",
      "execution_count": null,
      "metadata": {
        "colab": {
          "base_uri": "https://localhost:8080/",
          "height": 241
        },
        "id": "VQxWr8Y958V3",
        "outputId": "60bb857d-85ea-4e08-ab99-a6db9927c366"
      },
      "outputs": [],
      "source": [
        "for col in columns_to_impute:\n",
        "    train_df[col] = train_df[col].fillna(train_df[col].mean())\n",
        "\n",
        "train_df.isna().sum()"
      ]
    },
    {
      "cell_type": "markdown",
      "metadata": {
        "id": "UJs6R8f658V1"
      },
      "source": [
        "<!-- @format -->\n",
        "\n",
        "On looking at the above code, we see Feature3 has a lot of outliers, so we remove them now using upper and lower whiskers\n"
      ]
    },
    {
      "cell_type": "code",
      "execution_count": null,
      "metadata": {
        "id": "Sb37Nyk558V2"
      },
      "outputs": [],
      "source": [
        "class outlierremoval:\n",
        "    def __init__(self, col):\n",
        "        q1 = col.quantile(0.25)\n",
        "        q3 = col.quantile(0.75)\n",
        "        inter_quartile_range = q3 - q1\n",
        "        self.upper_whisker = q3 + 1.75 * inter_quartile_range\n",
        "        self.lower_whisker = q1 - 1.25 * inter_quartile_range\n",
        "\n",
        "    def remove_outliers(self, row):\n",
        "        if row <= self.upper_whisker and row >= self.lower_whisker:\n",
        "            return row\n",
        "        # elif row > self.upper_whisker:\n",
        "        #     return self.upper_whisker\n",
        "        # else:\n",
        "        #     return self.lower_whisker"
      ]
    },
    {
      "cell_type": "code",
      "execution_count": null,
      "metadata": {
        "colab": {
          "base_uri": "https://localhost:8080/",
          "height": 428
        },
        "id": "KvL3E5yW58V2",
        "outputId": "52ab5395-b2db-418b-ccf8-8a7b8c6a8abc"
      },
      "outputs": [],
      "source": [
        "remover = outlierremoval(train_df[\"Feature3\"])\n",
        "train_df[\"Feature3\"] = train_df[\"Feature3\"].apply(remover.remove_outliers)\n",
        "sns.boxplot(train_df[\"Feature3\"])"
      ]
    },
    {
      "cell_type": "code",
      "execution_count": null,
      "metadata": {
        "colab": {
          "base_uri": "https://localhost:8080/",
          "height": 423
        },
        "id": "kshAODI0n6yU",
        "outputId": "01344fce-964f-4a89-9d26-33d05e2c1b1e"
      },
      "outputs": [],
      "source": [
        "# Remove all the cells which have null value\n",
        "train_df.dropna(inplace=True)\n",
        "train_df"
      ]
    },
    {
      "cell_type": "markdown",
      "metadata": {
        "id": "CAoQyqyE58V4"
      },
      "source": [
        "<!-- @format -->\n",
        "\n",
        "## Scaling and Standardization\n"
      ]
    },
    {
      "cell_type": "code",
      "execution_count": null,
      "metadata": {
        "colab": {
          "base_uri": "https://localhost:8080/",
          "height": 1000
        },
        "id": "KYzPk3B158V4",
        "outputId": "1ba5f63a-0d8e-4f2d-ee17-335f0570b8bd"
      },
      "outputs": [],
      "source": [
        "for i in train_df.columns:\n",
        "    sns.scatterplot(train_df[i])\n",
        "    plt.show()"
      ]
    },
    {
      "cell_type": "markdown",
      "metadata": {
        "id": "ZcKccnxA58V4"
      },
      "source": [
        "<!-- @format -->\n",
        "\n",
        "On observing, we see Feature 2 and other columns vary by power of 2, so will normalize it.\n",
        "Also ,lets normalize other columns also to (-1,1)\n"
      ]
    },
    {
      "cell_type": "code",
      "execution_count": null,
      "metadata": {
        "id": "lCOP2gpo58V4"
      },
      "outputs": [],
      "source": [
        "from sklearn.preprocessing import StandardScaler"
      ]
    },
    {
      "cell_type": "markdown",
      "metadata": {
        "id": "m9gmBr0R58V4"
      },
      "source": [
        "<!-- @format -->\n",
        "\n",
        "Categorical variables should not be normalized as they have a fixed value corresponding to a option.So, we move the categorical variables to the left and apply loop on non-categorical variables.\n"
      ]
    },
    {
      "cell_type": "code",
      "execution_count": null,
      "metadata": {
        "colab": {
          "base_uri": "https://localhost:8080/",
          "height": 423
        },
        "id": "1gI7N2Yn58V4",
        "outputId": "98047be9-01f2-4e14-e4c5-bf7c1867b664"
      },
      "outputs": [],
      "source": [
        "train_df_Feature2 = train_df[\"Feature2\"]\n",
        "train_df = train_df.drop([\"Feature2\"], axis=1)\n",
        "train_df = pd.concat(\n",
        "    [train_df_Feature2, train_df],\n",
        "    axis=1,\n",
        ")\n",
        "train_df"
      ]
    },
    {
      "cell_type": "code",
      "execution_count": null,
      "metadata": {
        "colab": {
          "base_uri": "https://localhost:8080/",
          "height": 430
        },
        "id": "baiIm6by58V5",
        "outputId": "048da892-4c09-426f-9cca-7b40017ab0b4"
      },
      "outputs": [],
      "source": [
        "sns.scatterplot(train_df[\"Feature3\"])\n",
        "plt.show()"
      ]
    },
    {
      "cell_type": "markdown",
      "metadata": {
        "id": "oZmovaee58V5"
      },
      "source": [
        "<!-- @format -->\n",
        "\n",
        "### EDA continued\n"
      ]
    },
    {
      "cell_type": "markdown",
      "metadata": {
        "id": "eeXBOxzj58V5"
      },
      "source": [
        "<!-- @format -->\n",
        "\n",
        "Lets see the hisplot for all features and understand which regression works best here.\n"
      ]
    },
    {
      "cell_type": "code",
      "execution_count": null,
      "metadata": {
        "colab": {
          "base_uri": "https://localhost:8080/",
          "height": 1000
        },
        "id": "I9Gyk2iz58V5",
        "outputId": "4bac4e96-b7c0-4bc6-e1dd-3d29a3371a2e"
      },
      "outputs": [],
      "source": [
        "for i in train_df.columns:\n",
        "    sns.histplot(train_df[i])\n",
        "    plt.show()"
      ]
    },
    {
      "cell_type": "markdown",
      "metadata": {
        "id": "hV4qq09I58V5"
      },
      "source": [
        "<!-- @format -->\n",
        "\n",
        "## Making the Model itself\n"
      ]
    },
    {
      "cell_type": "code",
      "execution_count": null,
      "metadata": {
        "id": "bMSzo5kd58V5"
      },
      "outputs": [],
      "source": [
        "import numpy as np\n",
        "import matplotlib.pyplot as plt\n",
        "from sklearn.model_selection import train_test_split\n",
        "from sklearn.linear_model import LinearRegression, Lasso, Ridge\n",
        "from sklearn.preprocessing import PolynomialFeatures, StandardScaler\n",
        "from sklearn.metrics import mean_squared_error, r2_score\n",
        "from sklearn.pipeline import make_pipeline"
      ]
    },
    {
      "cell_type": "markdown",
      "metadata": {
        "id": "joqXoFH758V5"
      },
      "source": [
        "<!-- @format -->\n",
        "\n",
        "My roll no is IMT2022043, so random seed will be 43.\n"
      ]
    },
    {
      "cell_type": "code",
      "execution_count": null,
      "metadata": {
        "id": "Z1KMD9GUqMid"
      },
      "outputs": [],
      "source": [
        "Label_df = train_df[\"Label\"]\n",
        "train_df = train_df.drop([\"Label\"], axis=1)"
      ]
    },
    {
      "cell_type": "code",
      "execution_count": null,
      "metadata": {
        "id": "tbgM3UAJ58V5"
      },
      "outputs": [],
      "source": [
        "X_train, X_test, y_train, y_test = train_test_split(\n",
        "    train_df, Label_df, test_size=0.2, random_state=1\n",
        ")"
      ]
    },
    {
      "cell_type": "code",
      "execution_count": null,
      "metadata": {
        "colab": {
          "base_uri": "https://localhost:8080/",
          "height": 423
        },
        "id": "FucIYKiy58V6",
        "outputId": "c45ce5b2-cec6-47d8-e841-8e5c3ce67a7b"
      },
      "outputs": [],
      "source": [
        "X_train"
      ]
    },
    {
      "cell_type": "markdown",
      "metadata": {
        "id": "8Jccxe_fWk38"
      },
      "source": [
        "### Making a automated Pipelne"
      ]
    },
    {
      "cell_type": "code",
      "execution_count": null,
      "metadata": {
        "id": "yvYna9aEWk4J"
      },
      "outputs": [],
      "source": [
        "# Alpha range - 0 to dont know\n",
        "pipe = make_pipeline(PolynomialFeatures(degree=3), StandardScaler(), Lasso(alpha=0.9))"
      ]
    },
    {
      "cell_type": "code",
      "execution_count": null,
      "metadata": {
        "colab": {
          "base_uri": "https://localhost:8080/"
        },
        "id": "GpyyhCqsWk4K",
        "outputId": "879253b6-7e80-4681-d23a-ff861ced4faa"
      },
      "outputs": [],
      "source": [
        "pipe.fit(X_train, y_train)\n",
        "Y_poly_Predict = pipe.predict(X_test)\n",
        "print(\"R2 Score: \", r2_score(y_test, Y_poly_Predict))"
      ]
    },
    {
      "cell_type": "code",
      "execution_count": null,
      "metadata": {
        "colab": {
          "base_uri": "https://localhost:8080/",
          "height": 1000
        },
        "id": "mGl61GQwbqWg",
        "outputId": "2f611897-4fce-4953-ee6e-d27b2c9e2d20"
      },
      "outputs": [],
      "source": [
        "# Read test.csv\n",
        "test_df = pd.read_csv(\"test.csv\")\n",
        "test_df"
      ]
    },
    {
      "cell_type": "code",
      "execution_count": null,
      "metadata": {
        "colab": {
          "base_uri": "https://localhost:8080/",
          "height": 1000
        },
        "id": "JTTRjkRQb-7Q",
        "outputId": "0aee8eb9-754d-4f08-daff-2c7543664a1d"
      },
      "outputs": [],
      "source": [
        "test_df['Feature2'] = test_df['Feature2'].replace({True: 1, False: 0})\n",
        "test_df = test_df.drop('id' , axis=1)\n",
        "test_df"
      ]
    },
    {
      "cell_type": "code",
      "execution_count": null,
      "metadata": {
        "colab": {
          "base_uri": "https://localhost:8080/",
          "height": 1000
        },
        "id": "T3I3CjOscyw5",
        "outputId": "24682306-437f-4932-eb3c-e3a291bbead3"
      },
      "outputs": [],
      "source": [
        "# Swap Feature 2 and Feature1\n",
        "test_df_Feature2 = test_df['Feature2']\n",
        "test_df = test_df.drop(['Feature2'] , axis=1)\n",
        "test_df = pd.concat([test_df_Feature2 , test_df] , axis=1)\n",
        "test_df"
      ]
    },
    {
      "cell_type": "markdown",
      "metadata": {
        "id": "TIxpPR92Wk4K"
      },
      "source": [
        "#### Predict based on the above pipeline"
      ]
    },
    {
      "cell_type": "code",
      "execution_count": null,
      "metadata": {
        "id": "sQh91ZOwWk4K"
      },
      "outputs": [],
      "source": [
        "y_test_pred_Ridge = pipe.predict(test_df)\n",
        "# Write the predictions to a csv file, with first column as id\n",
        "submission = pd.DataFrame()\n",
        "submission[\"id\"] = range(0, len(y_test_pred_Ridge))\n",
        "submission[\"Label\"] = y_test_pred_Ridge\n",
        "submission.to_csv(\"submission_poly_lasso.csv\", index=False)"
      ]
    }
  ],
  "metadata": {
    "colab": {
      "provenance": []
    },
    "kernelspec": {
      "display_name": ".venv",
      "language": "python",
      "name": "python3"
    },
    "language_info": {
      "codemirror_mode": {
        "name": "ipython",
        "version": 3
      },
      "file_extension": ".py",
      "mimetype": "text/x-python",
      "name": "python",
      "nbconvert_exporter": "python",
      "pygments_lexer": "ipython3",
      "version": "3.10.11"
    }
  },
  "nbformat": 4,
  "nbformat_minor": 0
}
